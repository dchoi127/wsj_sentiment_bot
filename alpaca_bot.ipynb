{
 "cells": [
  {
   "cell_type": "code",
   "execution_count": 17,
   "id": "d6a5681a",
   "metadata": {},
   "outputs": [],
   "source": [
    "#!pip install transformers --force-reinstall\n",
    "import pandas as pd\n",
    "#import transformers\n",
    "\n",
    "from transformers import AutoTokenizer, AutoModelForSequenceClassification\n",
    "  \n",
    "tokenizer = AutoTokenizer.from_pretrained(\"ProsusAI/finbert\")\n",
    "model = AutoModelForSequenceClassification.from_pretrained(\"ProsusAI/finbert\")\n"
   ]
  },
  {
   "cell_type": "code",
   "execution_count": 18,
   "id": "97bca628",
   "metadata": {},
   "outputs": [
    {
     "data": {
      "text/html": [
       "<div>\n",
       "<style scoped>\n",
       "    .dataframe tbody tr th:only-of-type {\n",
       "        vertical-align: middle;\n",
       "    }\n",
       "\n",
       "    .dataframe tbody tr th {\n",
       "        vertical-align: top;\n",
       "    }\n",
       "\n",
       "    .dataframe thead th {\n",
       "        text-align: right;\n",
       "    }\n",
       "</style>\n",
       "<table border=\"1\" class=\"dataframe\">\n",
       "  <thead>\n",
       "    <tr style=\"text-align: right;\">\n",
       "      <th></th>\n",
       "      <th>0</th>\n",
       "      <th>1</th>\n",
       "      <th>2</th>\n",
       "    </tr>\n",
       "  </thead>\n",
       "  <tbody>\n",
       "    <tr>\n",
       "      <th>0</th>\n",
       "      <td>Starbucks Sales Rise as Cost Pressures Increas...</td>\n",
       "      <td>2022-02-01T21:11:00Z</td>\n",
       "      <td>['SBUX']</td>\n",
       "    </tr>\n",
       "    <tr>\n",
       "      <th>1</th>\n",
       "      <td>Google’s Grown-Up Phase Won’t Be Boring</td>\n",
       "      <td>2022-02-01T23:54:00Z</td>\n",
       "      <td>['GOOG']</td>\n",
       "    </tr>\n",
       "    <tr>\n",
       "      <th>2</th>\n",
       "      <td>GM Earnings Rose Sharply in 2021</td>\n",
       "      <td>2022-02-01T13:43:00Z</td>\n",
       "      <td>['GM', 'TSLA']</td>\n",
       "    </tr>\n",
       "  </tbody>\n",
       "</table>\n",
       "</div>"
      ],
      "text/plain": [
       "                                                   0                     1   \n",
       "0  Starbucks Sales Rise as Cost Pressures Increas...  2022-02-01T21:11:00Z  \\\n",
       "1            Google’s Grown-Up Phase Won’t Be Boring  2022-02-01T23:54:00Z   \n",
       "2                   GM Earnings Rose Sharply in 2021  2022-02-01T13:43:00Z   \n",
       "\n",
       "                2  \n",
       "0        ['SBUX']  \n",
       "1        ['GOOG']  \n",
       "2  ['GM', 'TSLA']  "
      ]
     },
     "execution_count": 18,
     "metadata": {},
     "output_type": "execute_result"
    }
   ],
   "source": [
    "# inputs = tokenizer(headlines_list, padding = True, truncation = True, return_tensors='pt')\n",
    "# print(inputs)\n",
    "df = pd.read_csv(\"articles4.csv\", header = None) \n",
    "df"
   ]
  },
  {
   "cell_type": "code",
   "execution_count": 26,
   "id": "a1b91f1e",
   "metadata": {},
   "outputs": [
    {
     "name": "stdout",
     "output_type": "stream",
     "text": [
      "Google’s Grown-Up Phase Won’t Be Boring\n"
     ]
    }
   ],
   "source": [
    "inputs = tokenizer([df[0][1]], padding = True, truncation = True, return_tensors='pt')\n",
    "print(df[0][1])"
   ]
  },
  {
   "cell_type": "code",
   "execution_count": 27,
   "id": "b3d27af9",
   "metadata": {},
   "outputs": [],
   "source": [
    "outputs = model(**inputs)"
   ]
  },
  {
   "cell_type": "code",
   "execution_count": 28,
   "id": "40145165",
   "metadata": {},
   "outputs": [
    {
     "name": "stdout",
     "output_type": "stream",
     "text": [
      "tensor([[0.0387, 0.0280, 0.9334]], grad_fn=<SoftmaxBackward0>)\n"
     ]
    }
   ],
   "source": [
    "import torch\n",
    "\n",
    "\n",
    "predictions = torch.nn.functional.softmax(outputs.logits, dim=-1)\n",
    "print(predictions)"
   ]
  },
  {
   "cell_type": "code",
   "execution_count": 29,
   "id": "3ac9b5b5",
   "metadata": {},
   "outputs": [],
   "source": [
    "from alpaca.trading.client import TradingClient\n",
    "from alpaca.trading.requests import MarketOrderRequest\n",
    "from alpaca.trading.enums import OrderSide, TimeInForce\n",
    "api_key = 'api_key'\n",
    "secret_key = 'secret_key'\n"
   ]
  },
  {
   "cell_type": "code",
   "execution_count": 30,
   "id": "7713f256",
   "metadata": {},
   "outputs": [],
   "source": [
    "trading_client = TradingClient(api_key, secret_key, paper=True)"
   ]
  },
  {
   "cell_type": "code",
   "execution_count": null,
   "id": "ae5b5d1f",
   "metadata": {},
   "outputs": [],
   "source": []
  }
 ],
 "metadata": {
  "kernelspec": {
   "display_name": "myenv",
   "language": "python",
   "name": "myenv"
  },
  "language_info": {
   "codemirror_mode": {
    "name": "ipython",
    "version": 3
   },
   "file_extension": ".py",
   "mimetype": "text/x-python",
   "name": "python",
   "nbconvert_exporter": "python",
   "pygments_lexer": "ipython3",
   "version": "3.8.16"
  }
 },
 "nbformat": 4,
 "nbformat_minor": 5
}
